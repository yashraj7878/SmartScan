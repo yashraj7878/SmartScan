{
 "cells": [
  {
   "cell_type": "markdown",
   "id": "7ba6606f",
   "metadata": {},
   "source": [
    "# 📦 ML Image Entity Extraction using OCR (EasyOCR)"
   ]
  },
  {
   "cell_type": "code",
   "execution_count": null,
   "id": "32b48661",
   "metadata": {},
   "outputs": [],
   "source": [
    "import os\n",
    "import pandas as pd\n",
    "import numpy as np\n",
    "import re\n",
    "from tqdm import tqdm\n",
    "from PIL import Image\n",
    "import easyocr\n",
    "\n",
    "from sklearn.model_selection import train_test_split\n",
    "\n",
    "from utils import download_images, parse_string\n",
    "from constants import entity_unit_map\n"
   ]
  },
  {
   "cell_type": "code",
   "execution_count": null,
   "id": "09be039d",
   "metadata": {},
   "outputs": [],
   "source": [
    "train_df = pd.read_csv(\"/home/ds_yashraj/Projects/Image_Feature_Extraction/dataset/train.csv\").sample(n=5000, random_state=42).reset_index(drop=True)\n",
    "train_df, val_df = train_test_split(train_df, test_size=0.2, random_state=42)\n"
   ]
  },
  {
   "cell_type": "code",
   "execution_count": null,
   "id": "5d574f6c",
   "metadata": {},
   "outputs": [],
   "source": [
    "image_path = os.path.join(\"images/train\", image_name)\n",
    "image_path = os.path.join(\"images/test\", image_name)\n",
    "\n"
   ]
  },
  {
   "cell_type": "code",
   "execution_count": null,
   "id": "052d1821",
   "metadata": {},
   "outputs": [],
   "source": [
    "reader = easyocr.Reader(['en'], gpu=True)\n"
   ]
  },
  {
   "cell_type": "code",
   "execution_count": null,
   "id": "3630394c",
   "metadata": {},
   "outputs": [],
   "source": [
    "def ocr_predict(image_path, entity):\n",
    "    try:\n",
    "        result = reader.readtext(image_path, detail=0)\n",
    "        text = \" \".join(result).lower()\n",
    "        # Get allowed units\n",
    "        allowed_units = entity_unit_map.get(entity, [])\n",
    "        pattern = r\"(\\d+(?:\\.\\d+)?)\\s*(\" + \"|\".join([re.escape(u) for u in allowed_units]) + \")\"\n",
    "        match = re.search(pattern, text)\n",
    "        if match:\n",
    "            value, unit = match.groups()\n",
    "            return f\"{float(value):.2f} {unit}\"\n",
    "    except:\n",
    "        pass\n",
    "    return \"\"\n"
   ]
  },
  {
   "cell_type": "code",
   "execution_count": null,
   "id": "3da868ec",
   "metadata": {},
   "outputs": [],
   "source": [
    "val_preds = []\n",
    "val_true = []\n",
    "\n",
    "for i, row in tqdm(val_df.iterrows(), total=len(val_df)):\n",
    "    raw_val = row['entity_value']\n",
    "    if isinstance(raw_val, str) and raw_val.startswith('['):\n",
    "        match = re.match(r\"\\[(\\d+(?:\\.\\d+)?),\\s*(\\d+(?:\\.\\d+)?)\\]\\s+([a-zA-Z\\s]+)\", raw_val)\n",
    "        if match:\n",
    "            avg = (float(match.group(1)) + float(match.group(2))) / 2\n",
    "            raw_val = f\"{avg:.2f} {match.group(3)}\"\n",
    "\n",
    "    try:\n",
    "        true_val, true_unit = parse_string(raw_val)\n",
    "        val_true.append(f\"{true_val:.2f} {true_unit}\")\n",
    "    except:\n",
    "        val_true.append(\"\")\n",
    "\n",
    "    image_name = os.path.basename(row['image_link'])\n",
    "    image_path = os.path.join(\"images/val\", image_name)\n",
    "    pred = ocr_predict(image_path, row['entity_name'])\n",
    "    val_preds.append(pred)\n"
   ]
  },
  {
   "cell_type": "code",
   "execution_count": null,
   "id": "89d180fa",
   "metadata": {},
   "outputs": [],
   "source": [
    "def extract_parts(s):\n",
    "    try:\n",
    "        val, unit = parse_string(s)\n",
    "        return f\"{val:.2f} {unit}\"\n",
    "    except:\n",
    "        return \"\"\n",
    "\n",
    "TP = FP = FN = 0\n",
    "for pred, true in zip(val_preds, val_true):\n",
    "    pred_clean = extract_parts(pred)\n",
    "    true_clean = extract_parts(true)\n",
    "\n",
    "    if pred_clean and true_clean:\n",
    "        if pred_clean == true_clean:\n",
    "            TP += 1\n",
    "        else:\n",
    "            FP += 1\n",
    "    elif pred_clean and not true_clean:\n",
    "        FP += 1\n",
    "    elif not pred_clean and true_clean:\n",
    "        FN += 1\n",
    "\n",
    "precision = TP / (TP + FP) if (TP + FP) else 0\n",
    "recall = TP / (TP + FN) if (TP + FN) else 0\n",
    "f1 = 2 * precision * recall / (precision + recall) if (precision + recall) else 0\n",
    "\n",
    "print(f\"F1 Score: {f1:.4f} | TP: {TP}, FP: {FP}, FN: {FN}\")\n"
   ]
  }
 ],
 "metadata": {
  "kernelspec": {
   "display_name": ".venv",
   "language": "python",
   "name": "python3"
  },
  "language_info": {
   "codemirror_mode": {
    "name": "ipython",
    "version": 3
   },
   "file_extension": ".py",
   "mimetype": "text/x-python",
   "name": "python",
   "nbconvert_exporter": "python",
   "pygments_lexer": "ipython3",
   "version": "3.10.12"
  }
 },
 "nbformat": 4,
 "nbformat_minor": 5
}
